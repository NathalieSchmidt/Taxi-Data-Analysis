{
 "cells": [
  {
   "cell_type": "markdown",
   "metadata": {},
   "source": [
    "# Kaggle Quito Dataset Analysis"
   ]
  },
  {
   "cell_type": "markdown",
   "metadata": {},
   "source": [
    "This data set is from the Kaggle competition you can find [here](https://www.kaggle.com/mnavas/taxi-routes-for-mexico-city-and-quito). \n",
    "\n",
    "The data set contains features collected from taxi drives in the city Quito. The taxi passengers used an app that collected the coordinates of the start and stop location, the time and date, the duration of the trip, the distance and the time the car was stopped. The time where the car was stopped relates to the time the passanger had to wait in traffic. Therefore this is a desired feature to predict for future rides. The question we will be analysing here is: \n",
    "\n",
    "**How long will I be stuck in traffic?**"
   ]
  },
  {
   "cell_type": "code",
   "execution_count": 1,
   "metadata": {},
   "outputs": [],
   "source": [
    "# import libraries\n",
    "\n",
    "import pandas as pd\n",
    "import seaborn as sns\n",
    "import numpy as np\n",
    "import matplotlib.pyplot as plt\n",
    "import matplotlib\n",
    "from datetime import datetime, date\n",
    "%matplotlib inline\n",
    "#plt.style.use( 'dark_background')"
   ]
  },
  {
   "cell_type": "code",
   "execution_count": 2,
   "metadata": {},
   "outputs": [
    {
     "data": {
      "text/html": [
       "<div>\n",
       "<style scoped>\n",
       "    .dataframe tbody tr th:only-of-type {\n",
       "        vertical-align: middle;\n",
       "    }\n",
       "\n",
       "    .dataframe tbody tr th {\n",
       "        vertical-align: top;\n",
       "    }\n",
       "\n",
       "    .dataframe thead th {\n",
       "        text-align: right;\n",
       "    }\n",
       "</style>\n",
       "<table border=\"1\" class=\"dataframe\">\n",
       "  <thead>\n",
       "    <tr style=\"text-align: right;\">\n",
       "      <th></th>\n",
       "      <th>id</th>\n",
       "      <th>vendor_id</th>\n",
       "      <th>pickup_datetime</th>\n",
       "      <th>dropoff_datetime</th>\n",
       "      <th>pickup_longitude</th>\n",
       "      <th>pickup_latitude</th>\n",
       "      <th>dropoff_longitude</th>\n",
       "      <th>dropoff_latitude</th>\n",
       "      <th>store_and_fwd_flag</th>\n",
       "      <th>trip_duration</th>\n",
       "      <th>dist_meters</th>\n",
       "      <th>wait_sec</th>\n",
       "    </tr>\n",
       "  </thead>\n",
       "  <tbody>\n",
       "    <tr>\n",
       "      <th>0</th>\n",
       "      <td>1</td>\n",
       "      <td>Quito</td>\n",
       "      <td>2016-09-17 09:32:06</td>\n",
       "      <td>2016-09-17 10:05:51</td>\n",
       "      <td>-78.503922</td>\n",
       "      <td>-0.232824</td>\n",
       "      <td>-78.549447</td>\n",
       "      <td>-0.361363</td>\n",
       "      <td>N</td>\n",
       "      <td>2025</td>\n",
       "      <td>24228</td>\n",
       "      <td>346</td>\n",
       "    </tr>\n",
       "    <tr>\n",
       "      <th>1</th>\n",
       "      <td>2</td>\n",
       "      <td>Quito</td>\n",
       "      <td>2016-09-18 04:03:20</td>\n",
       "      <td>2016-09-18 04:26:30</td>\n",
       "      <td>-78.440306</td>\n",
       "      <td>0.006789</td>\n",
       "      <td>-78.490786</td>\n",
       "      <td>-0.104836</td>\n",
       "      <td>N</td>\n",
       "      <td>1390</td>\n",
       "      <td>16680</td>\n",
       "      <td>456</td>\n",
       "    </tr>\n",
       "    <tr>\n",
       "      <th>2</th>\n",
       "      <td>3</td>\n",
       "      <td>Quito</td>\n",
       "      <td>2016-09-16 06:29:36</td>\n",
       "      <td>2016-09-18 06:41:33</td>\n",
       "      <td>-78.469551</td>\n",
       "      <td>-0.143636</td>\n",
       "      <td>-78.470277</td>\n",
       "      <td>-0.131083</td>\n",
       "      <td>N</td>\n",
       "      <td>130317</td>\n",
       "      <td>1987</td>\n",
       "      <td>290</td>\n",
       "    </tr>\n",
       "    <tr>\n",
       "      <th>3</th>\n",
       "      <td>4</td>\n",
       "      <td>Quito</td>\n",
       "      <td>2016-09-18 05:57:47</td>\n",
       "      <td>2016-09-18 06:30:00</td>\n",
       "      <td>-78.558076</td>\n",
       "      <td>-0.278241</td>\n",
       "      <td>-78.430220</td>\n",
       "      <td>-0.201934</td>\n",
       "      <td>N</td>\n",
       "      <td>1933</td>\n",
       "      <td>25146</td>\n",
       "      <td>302</td>\n",
       "    </tr>\n",
       "    <tr>\n",
       "      <th>4</th>\n",
       "      <td>5</td>\n",
       "      <td>Quito</td>\n",
       "      <td>2016-09-18 07:58:42</td>\n",
       "      <td>2016-09-18 08:14:29</td>\n",
       "      <td>-78.521818</td>\n",
       "      <td>-0.208480</td>\n",
       "      <td>-78.504558</td>\n",
       "      <td>-0.222462</td>\n",
       "      <td>N</td>\n",
       "      <td>948</td>\n",
       "      <td>4625</td>\n",
       "      <td>314</td>\n",
       "    </tr>\n",
       "  </tbody>\n",
       "</table>\n",
       "</div>"
      ],
      "text/plain": [
       "   id vendor_id      pickup_datetime     dropoff_datetime  pickup_longitude  \\\n",
       "0   1     Quito  2016-09-17 09:32:06  2016-09-17 10:05:51        -78.503922   \n",
       "1   2     Quito  2016-09-18 04:03:20  2016-09-18 04:26:30        -78.440306   \n",
       "2   3     Quito  2016-09-16 06:29:36  2016-09-18 06:41:33        -78.469551   \n",
       "3   4     Quito  2016-09-18 05:57:47  2016-09-18 06:30:00        -78.558076   \n",
       "4   5     Quito  2016-09-18 07:58:42  2016-09-18 08:14:29        -78.521818   \n",
       "\n",
       "   pickup_latitude  dropoff_longitude  dropoff_latitude store_and_fwd_flag  \\\n",
       "0        -0.232824         -78.549447         -0.361363                  N   \n",
       "1         0.006789         -78.490786         -0.104836                  N   \n",
       "2        -0.143636         -78.470277         -0.131083                  N   \n",
       "3        -0.278241         -78.430220         -0.201934                  N   \n",
       "4        -0.208480         -78.504558         -0.222462                  N   \n",
       "\n",
       "   trip_duration  dist_meters  wait_sec  \n",
       "0           2025        24228       346  \n",
       "1           1390        16680       456  \n",
       "2         130317         1987       290  \n",
       "3           1933        25146       302  \n",
       "4            948         4625       314  "
      ]
     },
     "execution_count": 2,
     "metadata": {},
     "output_type": "execute_result"
    }
   ],
   "source": [
    "#import dataset\n",
    "df = pd.read_csv(\"uio_clean.csv\")\n",
    "df.head()"
   ]
  },
  {
   "cell_type": "markdown",
   "metadata": {},
   "source": [
    "## Data Exploration"
   ]
  },
  {
   "cell_type": "code",
   "execution_count": 3,
   "metadata": {},
   "outputs": [
    {
     "data": {
      "text/plain": [
       "Index(['id', 'vendor_id', 'pickup_datetime', 'dropoff_datetime',\n",
       "       'pickup_longitude', 'pickup_latitude', 'dropoff_longitude',\n",
       "       'dropoff_latitude', 'store_and_fwd_flag', 'trip_duration',\n",
       "       'dist_meters', 'wait_sec'],\n",
       "      dtype='object')"
      ]
     },
     "execution_count": 3,
     "metadata": {},
     "output_type": "execute_result"
    }
   ],
   "source": [
    "df.columns"
   ]
  },
  {
   "cell_type": "code",
   "execution_count": 4,
   "metadata": {},
   "outputs": [
    {
     "data": {
      "text/plain": [
       "id                    0\n",
       "vendor_id             0\n",
       "pickup_datetime       0\n",
       "dropoff_datetime      0\n",
       "pickup_longitude      0\n",
       "pickup_latitude       0\n",
       "dropoff_longitude     0\n",
       "dropoff_latitude      0\n",
       "store_and_fwd_flag    0\n",
       "trip_duration         0\n",
       "dist_meters           0\n",
       "wait_sec              0\n",
       "dtype: int64"
      ]
     },
     "execution_count": 4,
     "metadata": {},
     "output_type": "execute_result"
    }
   ],
   "source": [
    "# checking for missing values\n",
    "df.isna().sum()"
   ]
  },
  {
   "cell_type": "code",
   "execution_count": 5,
   "metadata": {},
   "outputs": [
    {
     "name": "stdout",
     "output_type": "stream",
     "text": [
      "id                      int64\n",
      "vendor_id              object\n",
      "pickup_datetime        object\n",
      "dropoff_datetime       object\n",
      "pickup_longitude      float64\n",
      "pickup_latitude       float64\n",
      "dropoff_longitude     float64\n",
      "dropoff_latitude      float64\n",
      "store_and_fwd_flag     object\n",
      "trip_duration           int64\n",
      "dist_meters             int64\n",
      "wait_sec                int64\n",
      "dtype: object\n"
     ]
    }
   ],
   "source": [
    "# checking the data types\n",
    "print(df.dtypes)"
   ]
  },
  {
   "cell_type": "markdown",
   "metadata": {},
   "source": [
    "### Exploring each feature"
   ]
  },
  {
   "cell_type": "markdown",
   "metadata": {},
   "source": [
    "#### Vendor_ID"
   ]
  },
  {
   "cell_type": "code",
   "execution_count": 6,
   "metadata": {},
   "outputs": [
    {
     "name": "stdout",
     "output_type": "stream",
     "text": [
      "Data type of vendor_id:  object\n",
      "Nr of different vendors: 4\n",
      "Occurences of vendor_ids: Quito                     31875\n",
      "Quito Cabify Lite           400\n",
      "Quito Cabify Executive       88\n",
      "Quito UberX                   3\n",
      "Name: vendor_id, dtype: int64\n",
      "max Quito    31875\n",
      "Name: vendor_id, dtype: int64\n"
     ]
    }
   ],
   "source": [
    "# vendor_id column: \n",
    "\n",
    "print('Data type of vendor_id: ', df.vendor_id.dtype)\n",
    "print('Nr of different vendors:', df.vendor_id.unique().size)\n",
    "\n",
    "#which vendor occures most?\n",
    "vendors = df.vendor_id\n",
    "vendor_counts = vendors.value_counts()\n",
    "print('Occurences of vendor_ids:', vendor_counts)\n",
    "print('max', vendor_counts[vendor_counts == vendor_counts.max()])"
   ]
  },
  {
   "cell_type": "code",
   "execution_count": 7,
   "metadata": {
    "scrolled": false
   },
   "outputs": [
    {
     "data": {
      "image/png": "[encoded data removed]",
      "text/plain": [
       "<Figure size 432x288 with 1 Axes>"
      ]
     },
     "metadata": {
      "needs_background": "light"
     },
     "output_type": "display_data"
    }
   ],
   "source": [
    "# make barplot with vendor_ids\n",
    "vendor_array = np.array(vendor_counts)/sum(vendor_counts) *100\n",
    "names = vendors.unique()\n",
    "x_axis = np.arange(1,vendor_array.size +1)\n",
    "\n",
    "plt.bar(x = names, height = vendor_array, color=(0.2, 0.4, 0.6, 0.6))\n",
    "plt.xlabel('vendors')\n",
    "plt.ylabel('occurences in %')\n",
    "plt.title('Distribution of Vendor IDs')\n",
    "plt.xticks(rotation=45)\n",
    "plt.gcf().patch.set_alpha(0.0)\n",
    "plt.gca().patch.set_alpha(0.0)\n",
    "plt.tight_layout()"
   ]
  },
  {
   "cell_type": "markdown",
   "metadata": {},
   "source": [
    "**Note:** Since the feature *vendor_id* mostly contains the vendor Quito, the other vendors can be removed, or this could be handled with one-hot encoding. I will decide to remove the vendors unequal to 'Quito'."
   ]
  },
  {
   "cell_type": "markdown",
   "metadata": {},
   "source": [
    "#### Time Points"
   ]
  },
  {
   "cell_type": "code",
   "execution_count": 8,
   "metadata": {},
   "outputs": [
    {
     "name": "stdout",
     "output_type": "stream",
     "text": [
      "data type of pickup_datetime:  datetime64[ns]\n"
     ]
    }
   ],
   "source": [
    "# transforming to datetime\n",
    "df['pickup_datetime'] = pd.to_datetime(df['pickup_datetime'])\n",
    "df['dropoff_datetime'] = pd.to_datetime(df['dropoff_datetime'])\n",
    "print('data type of pickup_datetime: ', df.pickup_datetime.dtype)"
   ]
  },
  {
   "cell_type": "code",
   "execution_count": 9,
   "metadata": {},
   "outputs": [
    {
     "data": {
      "image/png": "[encoded data removed]",
      "text/plain": [
       "<Figure size 432x288 with 1 Axes>"
      ]
     },
     "metadata": {
      "needs_background": "light"
     },
     "output_type": "display_data"
    }
   ],
   "source": [
    "# When are the pickups and dropoffs?\n",
    "# plotting the occurences of pickup hours\n",
    "\n",
    "pickups_per_hour = df['pickup_datetime'].dt.hour.value_counts().sort_index()\n",
    "dropoffs_per_hour = df['dropoff_datetime'].dt.hour.value_counts().sort_index()\n",
    "\n",
    "plt.figure()\n",
    "pickups_per_hour.plot.bar(color=(0.2, 0.4, 0.6, 0.6), position=1, width= 0.4)\n",
    "dropoffs_per_hour.plot.bar(color=(0.2, 0.9, 0.8, 0.6), position=0, width= 0.4)\n",
    "plt.plot(np.array([i for i in range(12)]),[2500 for i in range(12)], label='threshold rush hour')\n",
    "plt.xlabel('Hour')\n",
    "plt.ylabel('nr. of pickups')\n",
    "plt.title('Distribution of Transportation Hour')\n",
    "plt.gcf().patch.set_alpha(0.0)\n",
    "plt.gca().patch.set_alpha(0.0)\n",
    "plt.tight_layout()\n",
    "plt.legend(loc=2) \n",
    "plt.show()"
   ]
  },
  {
   "cell_type": "markdown",
   "metadata": {},
   "source": [
    "**Note:** There seems to be a rush hour at 6 - 9. Something I noticed in the data is the lack of annotation of AM and PM, which might have an influence on the actual rush hour times. However, it is reasonable to assume, that the nighttime hours are equally less busy and don't have a hughe effect on the total number of pickups per hour. "
   ]
  },
  {
   "cell_type": "code",
   "execution_count": 10,
   "metadata": {},
   "outputs": [
    {
     "name": "stdout",
     "output_type": "stream",
     "text": [
      "first day:  2014-12-31\n",
      "last day:  2017-08-01\n",
      "mean of pickups per day:  77.61630695443645\n"
     ]
    }
   ],
   "source": [
    "# transportation per day\n",
    "\n",
    "pickups_per_day = df['pickup_datetime'].dt.date.value_counts().sort_index()\n",
    "\n",
    "# time range of data set\n",
    "print('first day: ', pickups_per_day.index[0])\n",
    "print('last day: ', pickups_per_day.index[-1])\n",
    "\n",
    "print('mean of pickups per day: ', pickups_per_day.mean())"
   ]
  },
  {
   "cell_type": "code",
   "execution_count": 11,
   "metadata": {},
   "outputs": [
    {
     "data": {
      "image/png": "[encoded data removed]",
      "text/plain": [
       "<Figure size 432x288 with 1 Axes>"
      ]
     },
     "metadata": {
      "needs_background": "light"
     },
     "output_type": "display_data"
    }
   ],
   "source": [
    "# plotting transportation per day during 2016\n",
    "start = date(2017, 1, 1)\n",
    "end = date(2017, 3, 31)\n",
    "three_month_mask = (pickups_per_day.index >= start) & (pickups_per_day.index <= end)\n",
    "three_month = pickups_per_day[three_month_mask]\n",
    "\n",
    "plt.figure()\n",
    "three_month.plot.bar(color=(0.2, 0.4, 0.6, 0.6), position=1, width= 0.4)\n",
    "plt.xlabel('Day 2017-01-01 to 2017-03-31')\n",
    "plt.ylabel('nr. of pickups')\n",
    "plt.title('Pickups per Day')\n",
    "plt.tick_params( bottom=False, labelbottom=False)\n",
    "plt.gcf().patch.set_alpha(0.0)\n",
    "plt.gca().patch.set_alpha(0.0)\n",
    "plt.tight_layout()\n",
    "plt.show()"
   ]
  },
  {
   "cell_type": "markdown",
   "metadata": {},
   "source": [
    "**Note:** There seem to be days without recordings of the app. These could be removed in the cleaning step later."
   ]
  },
  {
   "cell_type": "code",
   "execution_count": 12,
   "metadata": {},
   "outputs": [
    {
     "data": {
      "image/png": "[encoded data removed]",
      "text/plain": [
       "<Figure size 432x288 with 1 Axes>"
      ]
     },
     "metadata": {
      "needs_background": "light"
     },
     "output_type": "display_data"
    }
   ],
   "source": [
    "# plotting pickups per month\n",
    "\n",
    "month_name = np.array(['Jan', 'Feb', 'Mar', 'Apr', 'May', 'Jun', 'Jul', 'Aug', 'Sep', 'Okt', 'Nov', 'Dez'])\n",
    "\n",
    "month = df['pickup_datetime'].dt.month.value_counts().sort_index()\n",
    "plt.figure()\n",
    "plt.bar(x=month_name, height=month.values, color=(0.2, 0.4, 0.6, 0.6))\n",
    "plt.plot(month_name,[2500 for i in range(len(month_name))], label='treshold for busy months')\n",
    "plt.title('Pickups per Month')\n",
    "plt.legend()\n",
    "plt.xlabel('Month')\n",
    "plt.ylabel('nr. of Pickups')\n",
    "plt.gca().patch.set_alpha(0.0)\n",
    "plt.gcf().patch.set_alpha(0.0)\n",
    "plt.tight_layout()\n",
    "plt.show()"
   ]
  },
  {
   "cell_type": "markdown",
   "metadata": {},
   "source": [
    "**Note:** Dezember, January, June and July seem to be month with higher ammount of pickups. This could be translatet in a featuer month or season."
   ]
  },
  {
   "cell_type": "code",
   "execution_count": 13,
   "metadata": {},
   "outputs": [
    {
     "data": {
      "image/png": "[encoded data removed]",
      "text/plain": [
       "<Figure size 432x288 with 1 Axes>"
      ]
     },
     "metadata": {
      "needs_background": "light"
     },
     "output_type": "display_data"
    }
   ],
   "source": [
    "# plotting the average number of pickups per weekday\n",
    "\n",
    "weekdays = df['pickup_datetime'].dt.dayofweek.value_counts().sort_index()\n",
    "weekday_name = ['Mon', 'Tue', 'Wed', 'Thu', 'Fri', 'Sat', 'Sun']\n",
    "\n",
    "plt.figure()\n",
    "plt.bar(x=weekday_name, height=weekdays, color=(0.2, 0.4, 0.6, 0.6))\n",
    "plt.title('Pickups per Weekday')\n",
    "plt.xlabel('Weekday')\n",
    "plt.ylabel('nr of pickups')\n",
    "plt.gcf().patch.set_alpha(0.0)\n",
    "plt.gca().patch.set_alpha(0.0)\n",
    "plt.tight_layout()\n",
    "plt.show()"
   ]
  },
  {
   "cell_type": "markdown",
   "metadata": {},
   "source": [
    "**Note:** The weekday also seems to be an important feature, the weekend is less busy than the weekdays."
   ]
  },
  {
   "cell_type": "markdown",
   "metadata": {},
   "source": [
    "#### Coordinates:"
   ]
  },
  {
   "cell_type": "code",
   "execution_count": 14,
   "metadata": {},
   "outputs": [
    {
     "data": {
      "image/png": "[encoded data removed]",
      "text/plain": [
       "<Figure size 432x288 with 1 Axes>"
      ]
     },
     "metadata": {
      "needs_background": "light"
     },
     "output_type": "display_data"
    }
   ],
   "source": [
    "# plotting the pickup coordinates, only using the area of Quito \n",
    "# looked up the coordinate range of Quito at https://www.latlong.net/\n",
    "\n",
    "median = df.wait_sec.median()\n",
    "mad = df.wait_sec.mad()\n",
    "\n",
    "\n",
    "plt.figure()\n",
    "\n",
    "#sns.scatterplot(data=df, x='pickup_longitude', y='pickup_latitude', alpha=0.5, s=6, ax=ax);\n",
    "plt.scatter(df.pickup_longitude, df.pickup_latitude, \n",
    "            s=5, alpha=0.5, cmap='afmhot', c=df.wait_sec)\n",
    "plt.xlim([-78.6,-78.4])\n",
    "plt.ylim([-0.4,0.05])\n",
    "plt.title('Pickup Coordinates in Quito')\n",
    "\n",
    "plt.clim(median - 3 * mad, median + 3 * mad)\n",
    "plt.gcf().patch.set_alpha(0.0)\n",
    "plt.gca().patch.set_alpha(0.0)\n",
    "plt.tight_layout()\n",
    "plt.show()"
   ]
  },
  {
   "cell_type": "markdown",
   "metadata": {},
   "source": [
    "**Note:** Most of the trips seem to start in the city center and also the waiting time has areas in the city center that seem to be higher. This can be translatet in features like the direction of the trip: out of the city or into the city."
   ]
  },
  {
   "cell_type": "markdown",
   "metadata": {},
   "source": [
    "#### Trip duration and distance:"
   ]
  },
  {
   "cell_type": "code",
   "execution_count": 15,
   "metadata": {},
   "outputs": [
    {
     "name": "stdout",
     "output_type": "stream",
     "text": [
      "minimum trip_duration:  -388711\n",
      "how many values are < 0 ?: 1\n",
      "maximum:  70026052\n",
      "maximum value in days:  810.486712962963\n",
      "how many values are longer than 8 hours:  2070\n",
      "trips shorter than 5 minutes:  4012\n"
     ]
    }
   ],
   "source": [
    "# trip_duration seconds\n",
    "print('minimum trip_duration: ', df.trip_duration.min())\n",
    "# How many values are negative?\n",
    "print('how many values are < 0 ?:', df.trip_duration.loc[df.trip_duration < 0].size)\n",
    "print('maximum: ', df.trip_duration.max())\n",
    "# The maximum seems very high, translating to days:\n",
    "print('maximum value in days: ', df.trip_duration.max()/60/60/24)\n",
    "print('how many values are longer than 8 hours: ',df.trip_duration.loc[df.trip_duration > (8*60*60)].size )\n",
    "# How many trips are shorter than 5 minutes? \n",
    "print('trips shorter than 5 minutes: ', df.trip_duration.loc[df.trip_duration < 5*60].size)"
   ]
  },
  {
   "cell_type": "markdown",
   "metadata": {},
   "source": [
    "**Note:** Here negative values and values longer than 8 hours are concidered as unrealistic and should be removed later. Also trips under 5 minutes could be concidered as wrong data points since trips that short are unrealistic for a taxi drive."
   ]
  },
  {
   "cell_type": "code",
   "execution_count": 16,
   "metadata": {},
   "outputs": [
    {
     "data": {
      "image/png": "[encoded data removed]",
      "text/plain": [
       "<Figure size 432x288 with 1 Axes>"
      ]
     },
     "metadata": {
      "needs_background": "light"
     },
     "output_type": "display_data"
    }
   ],
   "source": [
    "duration = df.trip_duration.loc[df.trip_duration > 0]\n",
    "duration = duration.loc[duration < 8*60*60]/60/60\n",
    "\n",
    "plt.figure()\n",
    "duration.hist(bins=100, color=(0.2, 0.4, 0.6, 0.6))\n",
    "plt.title('Distribution of Trip_Duration')\n",
    "plt.xlabel('Hours')\n",
    "plt.ylabel('nr. of Trips')\n",
    "plt.gcf().patch.set_alpha(0.0)\n",
    "plt.gca().patch.set_alpha(0.0)\n",
    "plt.tight_layout()\n",
    "plt.show()"
   ]
  },
  {
   "cell_type": "markdown",
   "metadata": {},
   "source": [
    "**Note:** Most trips are shorter than 1 hour, here outliers could be removed."
   ]
  },
  {
   "cell_type": "code",
   "execution_count": 17,
   "metadata": {},
   "outputs": [
    {
     "name": "stdout",
     "output_type": "stream",
     "text": [
      "Minimum of dist_meters:  11\n",
      "Maximum of dist_meters in km:  2147483.647\n"
     ]
    }
   ],
   "source": [
    "# dist_meters\n",
    "print('Minimum of dist_meters: ', df.dist_meters.min())\n",
    "print('Maximum of dist_meters in km: ', df.dist_meters.max()/1000)"
   ]
  },
  {
   "cell_type": "code",
   "execution_count": 18,
   "metadata": {},
   "outputs": [
    {
     "data": {
      "image/png": "[encoded data removed]",
      "text/plain": [
       "<Figure size 432x288 with 1 Axes>"
      ]
     },
     "metadata": {
      "needs_background": "light"
     },
     "output_type": "display_data"
    }
   ],
   "source": [
    "# plotting the distribution of dist_meters\n",
    "dists = df.dist_meters.loc[df.dist_meters < 100*1000]/1000\n",
    "\n",
    "plt.figure()\n",
    "plt.hist(dists, bins= 100, color=(0.2, 0.4, 0.6, 0.6))\n",
    "plt.title('Distribution of Dist_Meters in KM')\n",
    "plt.xlabel('dist_meters in km')\n",
    "plt.ylabel('Frequency')\n",
    "plt.gcf().patch.set_alpha(0.0)\n",
    "plt.gca().patch.set_alpha(0.0)\n",
    "plt.tight_layout()\n",
    "plt.show()"
   ]
  },
  {
   "cell_type": "code",
   "execution_count": 19,
   "metadata": {
    "scrolled": true
   },
   "outputs": [
    {
     "data": {
      "image/png": "[encoded data removed]",
      "text/plain": [
       "<Figure size 432x288 with 1 Axes>"
      ]
     },
     "metadata": {
      "needs_background": "light"
     },
     "output_type": "display_data"
    }
   ],
   "source": [
    "# duration and dist can be combined to speed\n",
    "\n",
    "speed = df[['dist_meters', 'trip_duration']]\n",
    "speed = speed.loc[df.dist_meters < 100*1000]/1000\n",
    "speed = speed.loc[speed.trip_duration > 0]\n",
    "speed = speed.loc[speed.trip_duration < 8*60*60]\n",
    "speed['speed'] = (speed.dist_meters/1000)/(speed.trip_duration/3600)\n",
    "\n",
    "plt.figure()\n",
    "plt.scatter(x=speed.dist_meters, y=speed.trip_duration/3600, color=(0.2, 0.4, 0.6, 0.6))\n",
    "plt.title('Feature: Speed')\n",
    "plt.xlabel('distance in km')\n",
    "plt.ylabel('trip_duration in hours')\n",
    "plt.gcf().patch.set_alpha(0.0)\n",
    "plt.gca().patch.set_alpha(0.0)\n",
    "plt.tight_layout()\n",
    "plt.show()"
   ]
  },
  {
   "cell_type": "code",
   "execution_count": 20,
   "metadata": {},
   "outputs": [
    {
     "name": "stdout",
     "output_type": "stream",
     "text": [
      "Maximum Speed:  9191.400000000001\n"
     ]
    }
   ],
   "source": [
    "print('Maximum Speed: ', speed.speed.max())"
   ]
  },
  {
   "cell_type": "markdown",
   "metadata": {},
   "source": [
    "**Note**: The new feature speed seems promising, also unrealistic speeds can help again to clean the data. It seems legit to concider speeds beneath 10 km/h and above 120 km/h as unrealistic. "
   ]
  },
  {
   "cell_type": "code",
   "execution_count": 21,
   "metadata": {},
   "outputs": [
    {
     "data": {
      "image/png": "[encoded data removed]",
      "text/plain": [
       "<Figure size 432x288 with 1 Axes>"
      ]
     },
     "metadata": {
      "needs_background": "light"
     },
     "output_type": "display_data"
    }
   ],
   "source": [
    "# plotting speed distribution under 120 km/ h \n",
    "\n",
    "realistic_speed = speed.speed.loc[speed.speed < 120]\n",
    "\n",
    "plt.figure()\n",
    "realistic_speed.plot.hist(bins = 100, color=(0.2, 0.4, 0.6, 0.6))\n",
    "plt.title('Feature: Speed')\n",
    "plt.xlabel('speed in km/h')\n",
    "plt.ylabel('Frequency')\n",
    "plt.gcf().patch.set_alpha(0.0)\n",
    "plt.gca().patch.set_alpha(0.0)\n",
    "plt.tight_layout()\n",
    "plt.show()"
   ]
  },
  {
   "cell_type": "markdown",
   "metadata": {},
   "source": [
    "**Note:** Speed is mostly between 10 and 40 km/h which seems reasonable. However there are many entries with speed = 0, which could be cleaned later. "
   ]
  },
  {
   "cell_type": "markdown",
   "metadata": {},
   "source": [
    "#### Prediction Feature: Waiting Time"
   ]
  },
  {
   "cell_type": "code",
   "execution_count": 22,
   "metadata": {},
   "outputs": [
    {
     "name": "stdout",
     "output_type": "stream",
     "text": [
      "wait_sec minimum: 0\n",
      "wait_sec maximum:  95163057054\n",
      "wait_sec in years:  3017.600743721461\n",
      "wait_sec bigger than 8h?:  437\n"
     ]
    }
   ],
   "source": [
    "# unrealistic values in wait_sec?\n",
    "print('wait_sec minimum:', df.wait_sec.min())\n",
    "print('wait_sec maximum: ', df.wait_sec.max())\n",
    "print('wait_sec in years: ', df.wait_sec.max()/60/60/24/365)\n",
    "print('wait_sec bigger than 8h?: ', df.wait_sec.loc[df.wait_sec > 8*60*60].size)"
   ]
  },
  {
   "cell_type": "code",
   "execution_count": 23,
   "metadata": {},
   "outputs": [
    {
     "data": {
      "image/png": "[encoded data removed]",
      "text/plain": [
       "<Figure size 432x288 with 1 Axes>"
      ]
     },
     "metadata": {
      "needs_background": "light"
     },
     "output_type": "display_data"
    }
   ],
   "source": [
    "# plotting the prediction feature wait_sec\n",
    "\n",
    "waiting_time = df['wait_sec'].loc[df['wait_sec'] < 60*60*1]/60\n",
    "\n",
    "plt.figure()\n",
    "waiting_time.plot.hist(bins = 100, color=(0.2, 0.4, 0.6, 0.6))\n",
    "plt.title('Feature: Waiting Time')\n",
    "plt.xlabel('waiting time in minutes')\n",
    "plt.ylabel('Frequency')\n",
    "plt.gcf().patch.set_alpha(0.0)\n",
    "plt.gca().patch.set_alpha(0.0)\n",
    "plt.tight_layout()\n",
    "plt.show()"
   ]
  },
  {
   "cell_type": "markdown",
   "metadata": {},
   "source": [
    "**Note:** The waiting time is mostly beneath 20 minutes. "
   ]
  },
  {
   "cell_type": "markdown",
   "metadata": {},
   "source": [
    "#### Uninformative features:"
   ]
  },
  {
   "cell_type": "code",
   "execution_count": 24,
   "metadata": {},
   "outputs": [
    {
     "name": "stdout",
     "output_type": "stream",
     "text": [
      "Number of unique items in store_and_fwd_flag:  ['N']\n"
     ]
    }
   ],
   "source": [
    "#store_and_fwd_flag\n",
    "print('Number of unique items in store_and_fwd_flag: ', df.store_and_fwd_flag.unique())"
   ]
  },
  {
   "cell_type": "markdown",
   "metadata": {},
   "source": [
    "**Note:** Features without any information can be removed. This feature contains just one item and carries no other information. Maybe if bigger datasets contain different tags here, this should be concicered again."
   ]
  },
  {
   "cell_type": "markdown",
   "metadata": {},
   "source": [
    "## Data Cleaning"
   ]
  },
  {
   "cell_type": "markdown",
   "metadata": {},
   "source": [
    "**Note:** All information gathered in the data exploration that suggest the removal or the subtraction of outliers. Here I will choose to remove data that is unrealistic or is set by my definition as out of range. "
   ]
  },
  {
   "cell_type": "code",
   "execution_count": 25,
   "metadata": {},
   "outputs": [],
   "source": [
    "# Cleaning function that apllies all cleaning steps before feature enginering\n",
    "\n",
    "def clean_data(df): \n",
    "\n",
    "    # only keeping the vendor 'Quito'\n",
    "    df = df.loc[df['vendor_id'] == 'Quito', :]\n",
    "    df.vendor_id.unique()\n",
    "    \n",
    "    # transforming to datetime\n",
    "    df.loc[:, 'pickup_datetime'] = pd.to_datetime(df.loc[:, 'pickup_datetime'])\n",
    "    df.loc[:, 'dropoff_datetime'] = pd.to_datetime(df.loc[:, 'dropoff_datetime'])\n",
    "    \n",
    "    # deleting uninformative column store_and_flag\n",
    "    df = df.drop(['store_and_fwd_flag', 'id'], axis=1)\n",
    "\n",
    "    # removing coordinates out of quito area\n",
    "    min_long = -0.4\n",
    "    max_long = -0.05\n",
    "    min_lat = -78.6\n",
    "    max_lat = -78.4\n",
    "    mask_quito = (df.loc[:, 'pickup_latitude'] >= min_long) & (df.loc[:, 'pickup_latitude'] <= max_long)\n",
    "    mask_quito = mask_quito & (df.loc[:, 'pickup_longitude'] >= min_lat) & (df.loc[:, 'pickup_longitude'] <= max_lat) \n",
    "    mask_quito = mask_quito & (df.loc[:, 'dropoff_latitude'] >= min_long) & (df.loc[:, 'dropoff_latitude'] <= max_long)\n",
    "    mask_quito = mask_quito & (df.loc[:, 'dropoff_longitude'] >= min_lat) & (df.loc[:, 'dropoff_longitude'] <= max_lat) \n",
    "    df = df.loc[mask_quito, :]\n",
    "\n",
    "    # cleaning trip duration for plausible times from 5min to 8h\n",
    "    df = df.loc[df['trip_duration'] > 5*60, :]\n",
    "    df = df.loc[df['trip_duration'] < 8*60*60, :]\n",
    "\n",
    "    # cleaning dist_meters for plausible distances under 100km (Quitos longest distance is approx 60km)\n",
    "    df = df.loc[df['dist_meters'] > 0, :]\n",
    "    df = df.loc[df['dist_meters'] < 100*1000, :]\n",
    "    \n",
    "    # cleaning wait_sec longer than 8h:\n",
    "    df = df.loc[df['wait_sec'] < 8*60*60, :]\n",
    "    \n",
    "    return df"
   ]
  },
  {
   "cell_type": "markdown",
   "metadata": {},
   "source": [
    "## Feature Engineering"
   ]
  },
  {
   "cell_type": "code",
   "execution_count": 26,
   "metadata": {},
   "outputs": [],
   "source": [
    "# function needed for calculating the distance between coordinates\n",
    "# modified version found on:\n",
    "# https://stackoverflow.com/questions/4913349/haversine-formula-in-python-bearing-and-distance-between-two-gps-points\n",
    "\n",
    "def haversine_(lat1, lng1, lat2, lng2):\n",
    "    \"\"\"haversine distance: \n",
    "    great-circle distance between two points on a sphere given their longitudes and latitudes.\"\"\"\n",
    "    lat1, lng1, lat2, lng2 = map(np.radians, (lat1, lng1, lat2, lng2))\n",
    "    AVG_EARTH_RADIUS = 6371  # in km\n",
    "    \n",
    "    lat = lat2 - lat1\n",
    "    lng = lng2 - lng1\n",
    "    \n",
    "    d = np.sin(lat * 0.5) ** 2 + np.cos(lat1) * np.cos(lat2) * np.sin(lng * 0.5) ** 2\n",
    "    h = 2 * AVG_EARTH_RADIUS * np.arcsin(np.sqrt(d))\n",
    "    \n",
    "    return(h)"
   ]
  },
  {
   "cell_type": "code",
   "execution_count": 27,
   "metadata": {},
   "outputs": [],
   "source": [
    "def feature_engineering(df):\n",
    "\n",
    "\n",
    "    # create features from datetime:  \n",
    "    # hour/weekday/ weekend/ season\n",
    "\n",
    "    df['pickup_time'] = df['pickup_datetime'].dt.hour\n",
    "    df['dropoff_time'] = df['dropoff_datetime'].dt.hour\n",
    "    \n",
    "    # creating feature rush_hour\n",
    "    df['rush_hour'] = df.pickup_time.isin([6,7,8,9]).astype(int)\n",
    "\n",
    "    # only pickup month should be enough, since a ride is always shorter than a day\n",
    "    df['pickup_month'] = df['pickup_datetime'].dt.month\n",
    "    \n",
    "    #creating feature busy_season:\n",
    "    df['busy_season'] = df.pickup_month.isin([1, 12, 6, 7]).astype(int)\n",
    "    \n",
    "\n",
    "    # weekday for pickup\n",
    "    df['weekday'] = df['pickup_datetime'].dt.dayofweek\n",
    "\n",
    "    # create feature weekend, weekend = 0, weekday = 1\n",
    "    df['weekend'] = (df['weekday'] < 5).astype(int)\n",
    "\n",
    "    # create feature speed\n",
    "\n",
    "    df['speed_km_h'] = (df['dist_meters']/1000) / (df['trip_duration']/60/60)\n",
    "\n",
    "    # cleaning speed for plausible values\n",
    "\n",
    "    df = df.loc[df.speed_km_h < 120]\n",
    "    df = df.loc[df.speed_km_h > 5]\n",
    "\n",
    "    # creating features based on distance to the city center\n",
    "    # and direction of the trip -> uptown or downtown\n",
    "\n",
    "\n",
    "    # coordinates of Quito City center, estimated on latlong.net\n",
    "\n",
    "    quito_center = (-0.175, -78.5)\n",
    "\n",
    "    # creating feature 'distance to center' for pickup and dropoff\n",
    "    df[\"pickup_distance_to_center\"] = \\\n",
    "        df[['pickup_latitude','pickup_longitude']].apply(\n",
    "        lambda x: haversine_(x[0],x[1],quito_center[0],quito_center[1]),axis = 1)\n",
    "\n",
    "    df[\"dropoff_distance_to_center\"] = \\\n",
    "        df[['dropoff_latitude','dropoff_longitude']].apply(\n",
    "        lambda x: haversine_(x[0],x[1],quito_center[0],quito_center[1]),\n",
    "                                                     axis = 1)\n",
    "\n",
    "    # creating feature for going downtown or uptown\n",
    "    # is the distance to center getting bigger or smaler?\n",
    "    df[\"to_center\"] = \\\n",
    "        (df[\"pickup_distance_to_center\"] > \\\n",
    "        df[\"dropoff_distance_to_center\"]).astype(int)  \n",
    "    \n",
    "    return df\n"
   ]
  },
  {
   "cell_type": "markdown",
   "metadata": {},
   "source": [
    "#### Applying Data Cleaning and Feature Engineering on Data Set"
   ]
  },
  {
   "cell_type": "markdown",
   "metadata": {},
   "source": [
    "**Note:** I decided to do the data cleaning on the whole data set and then apply the train-test split, since I do only remove unrealistic values that are completely out of range. Therefore I decided to clean the whole data set, even if this implies that I have cleaned the test set."
   ]
  },
  {
   "cell_type": "code",
   "execution_count": 28,
   "metadata": {},
   "outputs": [
    {
     "name": "stdout",
     "output_type": "stream",
     "text": [
      "data set size before cleaning:  32366\n",
      "data set size after cleaning:  25363\n",
      "Number of removed data points: 7003\n"
     ]
    },
    {
     "name": "stderr",
     "output_type": "stream",
     "text": [
      "/usr/lib/python3.8/site-packages/pandas/core/indexing.py:1745: SettingWithCopyWarning: \n",
      "A value is trying to be set on a copy of a slice from a DataFrame.\n",
      "Try using .loc[row_indexer,col_indexer] = value instead\n",
      "\n",
      "See the caveats in the documentation: https://pandas.pydata.org/pandas-docs/stable/user_guide/indexing.html#returning-a-view-versus-a-copy\n",
      "  isetter(ilocs[0], value)\n"
     ]
    },
    {
     "name": "stdout",
     "output_type": "stream",
     "text": [
      "Removed Data Points in engineering:  1789\n"
     ]
    }
   ],
   "source": [
    "# reading in the data frame again in case of changes\n",
    "\n",
    "df = pd.read_csv(\"uio_clean.csv\")\n",
    "\n",
    "before = len(df)\n",
    "print('data set size before cleaning: ', before)\n",
    "\n",
    "# apply data cleaning function\n",
    "df = clean_data(df)\n",
    "after = len(df)\n",
    "print('data set size after cleaning: ', after)\n",
    "print('Number of removed data points:', before - after)\n",
    "\n",
    "# apply feature engineering function\n",
    "\n",
    "before_eng = len(df)\n",
    "df = feature_engineering(df)\n",
    "after_eng = len(df)\n",
    "print('Removed Data Points in engineering: ', before_eng - after_eng)"
   ]
  },
  {
   "cell_type": "code",
   "execution_count": 29,
   "metadata": {},
   "outputs": [
    {
     "data": {
      "text/html": [
       "<div>\n",
       "<style scoped>\n",
       "    .dataframe tbody tr th:only-of-type {\n",
       "        vertical-align: middle;\n",
       "    }\n",
       "\n",
       "    .dataframe tbody tr th {\n",
       "        vertical-align: top;\n",
       "    }\n",
       "\n",
       "    .dataframe thead th {\n",
       "        text-align: right;\n",
       "    }\n",
       "</style>\n",
       "<table border=\"1\" class=\"dataframe\">\n",
       "  <thead>\n",
       "    <tr style=\"text-align: right;\">\n",
       "      <th></th>\n",
       "      <th>vendor_id</th>\n",
       "      <th>pickup_datetime</th>\n",
       "      <th>dropoff_datetime</th>\n",
       "      <th>pickup_longitude</th>\n",
       "      <th>pickup_latitude</th>\n",
       "      <th>dropoff_longitude</th>\n",
       "      <th>dropoff_latitude</th>\n",
       "      <th>trip_duration</th>\n",
       "      <th>dist_meters</th>\n",
       "      <th>wait_sec</th>\n",
       "      <th>...</th>\n",
       "      <th>dropoff_time</th>\n",
       "      <th>rush_hour</th>\n",
       "      <th>pickup_month</th>\n",
       "      <th>busy_season</th>\n",
       "      <th>weekday</th>\n",
       "      <th>weekend</th>\n",
       "      <th>speed_km_h</th>\n",
       "      <th>pickup_distance_to_center</th>\n",
       "      <th>dropoff_distance_to_center</th>\n",
       "      <th>to_center</th>\n",
       "    </tr>\n",
       "  </thead>\n",
       "  <tbody>\n",
       "    <tr>\n",
       "      <th>0</th>\n",
       "      <td>Quito</td>\n",
       "      <td>2016-09-17 09:32:06</td>\n",
       "      <td>2016-09-17 10:05:51</td>\n",
       "      <td>-78.503922</td>\n",
       "      <td>-0.232824</td>\n",
       "      <td>-78.549447</td>\n",
       "      <td>-0.361363</td>\n",
       "      <td>2025</td>\n",
       "      <td>24228</td>\n",
       "      <td>346</td>\n",
       "      <td>...</td>\n",
       "      <td>10</td>\n",
       "      <td>1</td>\n",
       "      <td>9</td>\n",
       "      <td>0</td>\n",
       "      <td>5</td>\n",
       "      <td>0</td>\n",
       "      <td>43.072000</td>\n",
       "      <td>6.444522</td>\n",
       "      <td>21.439570</td>\n",
       "      <td>0</td>\n",
       "    </tr>\n",
       "    <tr>\n",
       "      <th>3</th>\n",
       "      <td>Quito</td>\n",
       "      <td>2016-09-18 05:57:47</td>\n",
       "      <td>2016-09-18 06:30:00</td>\n",
       "      <td>-78.558076</td>\n",
       "      <td>-0.278241</td>\n",
       "      <td>-78.430220</td>\n",
       "      <td>-0.201934</td>\n",
       "      <td>1933</td>\n",
       "      <td>25146</td>\n",
       "      <td>302</td>\n",
       "      <td>...</td>\n",
       "      <td>6</td>\n",
       "      <td>0</td>\n",
       "      <td>9</td>\n",
       "      <td>0</td>\n",
       "      <td>6</td>\n",
       "      <td>0</td>\n",
       "      <td>46.831661</td>\n",
       "      <td>13.171534</td>\n",
       "      <td>8.317123</td>\n",
       "      <td>1</td>\n",
       "    </tr>\n",
       "    <tr>\n",
       "      <th>4</th>\n",
       "      <td>Quito</td>\n",
       "      <td>2016-09-18 07:58:42</td>\n",
       "      <td>2016-09-18 08:14:29</td>\n",
       "      <td>-78.521818</td>\n",
       "      <td>-0.208480</td>\n",
       "      <td>-78.504558</td>\n",
       "      <td>-0.222462</td>\n",
       "      <td>948</td>\n",
       "      <td>4625</td>\n",
       "      <td>314</td>\n",
       "      <td>...</td>\n",
       "      <td>8</td>\n",
       "      <td>1</td>\n",
       "      <td>9</td>\n",
       "      <td>0</td>\n",
       "      <td>6</td>\n",
       "      <td>0</td>\n",
       "      <td>17.563291</td>\n",
       "      <td>4.443580</td>\n",
       "      <td>5.301858</td>\n",
       "      <td>0</td>\n",
       "    </tr>\n",
       "    <tr>\n",
       "      <th>5</th>\n",
       "      <td>Quito</td>\n",
       "      <td>2016-08-27 04:19:02</td>\n",
       "      <td>2016-08-27 04:44:12</td>\n",
       "      <td>-78.509202</td>\n",
       "      <td>-0.194839</td>\n",
       "      <td>-78.518764</td>\n",
       "      <td>-0.228794</td>\n",
       "      <td>1510</td>\n",
       "      <td>5820</td>\n",
       "      <td>630</td>\n",
       "      <td>...</td>\n",
       "      <td>4</td>\n",
       "      <td>0</td>\n",
       "      <td>8</td>\n",
       "      <td>0</td>\n",
       "      <td>5</td>\n",
       "      <td>0</td>\n",
       "      <td>13.875497</td>\n",
       "      <td>2.431700</td>\n",
       "      <td>6.335084</td>\n",
       "      <td>0</td>\n",
       "    </tr>\n",
       "    <tr>\n",
       "      <th>6</th>\n",
       "      <td>Quito</td>\n",
       "      <td>2016-09-18 10:08:57</td>\n",
       "      <td>2016-09-18 10:31:18</td>\n",
       "      <td>-78.481542</td>\n",
       "      <td>-0.154317</td>\n",
       "      <td>-78.518420</td>\n",
       "      <td>-0.191547</td>\n",
       "      <td>1341</td>\n",
       "      <td>7593</td>\n",
       "      <td>510</td>\n",
       "      <td>...</td>\n",
       "      <td>10</td>\n",
       "      <td>0</td>\n",
       "      <td>9</td>\n",
       "      <td>0</td>\n",
       "      <td>6</td>\n",
       "      <td>0</td>\n",
       "      <td>20.383893</td>\n",
       "      <td>3.082500</td>\n",
       "      <td>2.753324</td>\n",
       "      <td>1</td>\n",
       "    </tr>\n",
       "  </tbody>\n",
       "</table>\n",
       "<p>5 rows × 21 columns</p>\n",
       "</div>"
      ],
      "text/plain": [
       "  vendor_id     pickup_datetime    dropoff_datetime  pickup_longitude  \\\n",
       "0     Quito 2016-09-17 09:32:06 2016-09-17 10:05:51        -78.503922   \n",
       "3     Quito 2016-09-18 05:57:47 2016-09-18 06:30:00        -78.558076   \n",
       "4     Quito 2016-09-18 07:58:42 2016-09-18 08:14:29        -78.521818   \n",
       "5     Quito 2016-08-27 04:19:02 2016-08-27 04:44:12        -78.509202   \n",
       "6     Quito 2016-09-18 10:08:57 2016-09-18 10:31:18        -78.481542   \n",
       "\n",
       "   pickup_latitude  dropoff_longitude  dropoff_latitude  trip_duration  \\\n",
       "0        -0.232824         -78.549447         -0.361363           2025   \n",
       "3        -0.278241         -78.430220         -0.201934           1933   \n",
       "4        -0.208480         -78.504558         -0.222462            948   \n",
       "5        -0.194839         -78.518764         -0.228794           1510   \n",
       "6        -0.154317         -78.518420         -0.191547           1341   \n",
       "\n",
       "   dist_meters  wait_sec  ...  dropoff_time  rush_hour  pickup_month  \\\n",
       "0        24228       346  ...            10          1             9   \n",
       "3        25146       302  ...             6          0             9   \n",
       "4         4625       314  ...             8          1             9   \n",
       "5         5820       630  ...             4          0             8   \n",
       "6         7593       510  ...            10          0             9   \n",
       "\n",
       "   busy_season  weekday  weekend  speed_km_h  pickup_distance_to_center  \\\n",
       "0            0        5        0   43.072000                   6.444522   \n",
       "3            0        6        0   46.831661                  13.171534   \n",
       "4            0        6        0   17.563291                   4.443580   \n",
       "5            0        5        0   13.875497                   2.431700   \n",
       "6            0        6        0   20.383893                   3.082500   \n",
       "\n",
       "   dropoff_distance_to_center  to_center  \n",
       "0                   21.439570          0  \n",
       "3                    8.317123          1  \n",
       "4                    5.301858          0  \n",
       "5                    6.335084          0  \n",
       "6                    2.753324          1  \n",
       "\n",
       "[5 rows x 21 columns]"
      ]
     },
     "execution_count": 29,
     "metadata": {},
     "output_type": "execute_result"
    }
   ],
   "source": [
    "df.head()"
   ]
  },
  {
   "cell_type": "markdown",
   "metadata": {},
   "source": [
    "#### Preparing Data Set for ANN -> One-Hot-Encoding and Scaling"
   ]
  },
  {
   "cell_type": "code",
   "execution_count": 30,
   "metadata": {},
   "outputs": [],
   "source": [
    "# one-hot encoding\n",
    "#df = pd.get_dummies(df, columns=['pickup_month','pickup_time'])\n",
    "\n",
    "\n",
    "from sklearn.preprocessing import MinMaxScaler\n",
    "# scaling \n",
    "scaler = MinMaxScaler()\n",
    "\n",
    "df[['speed_km_h', \n",
    "         'dist_meters', \n",
    "         'trip_duration', \n",
    "         'pickup_distance_to_center', \n",
    "         ]] = \\\n",
    "        scaler.fit_transform(df[['speed_km_h', \n",
    "                                     'dist_meters', \n",
    "                                     'trip_duration', \n",
    "                                     'pickup_distance_to_center',\n",
    "                                     ]])\n"
   ]
  },
  {
   "cell_type": "code",
   "execution_count": 31,
   "metadata": {},
   "outputs": [
    {
     "data": {
      "text/plain": [
       "Index(['vendor_id', 'pickup_datetime', 'dropoff_datetime', 'pickup_longitude',\n",
       "       'pickup_latitude', 'dropoff_longitude', 'dropoff_latitude',\n",
       "       'trip_duration', 'dist_meters', 'wait_sec', 'pickup_time',\n",
       "       'dropoff_time', 'rush_hour', 'pickup_month', 'busy_season', 'weekday',\n",
       "       'weekend', 'speed_km_h', 'pickup_distance_to_center',\n",
       "       'dropoff_distance_to_center', 'to_center'],\n",
       "      dtype='object')"
      ]
     },
     "execution_count": 31,
     "metadata": {},
     "output_type": "execute_result"
    }
   ],
   "source": [
    "df.columns"
   ]
  },
  {
   "cell_type": "markdown",
   "metadata": {},
   "source": [
    "## Modelling"
   ]
  },
  {
   "cell_type": "code",
   "execution_count": 32,
   "metadata": {},
   "outputs": [],
   "source": [
    "# Imports: \n",
    "import sklearn \n",
    "\n",
    "#train-test-split\n",
    "from sklearn.model_selection import train_test_split\n",
    "\n",
    "# Preprocessing\n",
    "from sklearn.pipeline import Pipeline\n",
    "from sklearn.preprocessing import StandardScaler\n",
    "from sklearn.preprocessing import MinMaxScaler\n",
    "\n",
    "# Regression\n",
    "from sklearn.linear_model import LinearRegression, Ridge\n",
    "from sklearn.svm import SVC\n",
    "\n",
    "# Validation\n",
    "from sklearn.model_selection import cross_val_score\n",
    "from sklearn.metrics import mean_squared_error\n",
    "\n",
    "# Metrics\n",
    "from sklearn.metrics import mean_absolute_error"
   ]
  },
  {
   "cell_type": "markdown",
   "metadata": {},
   "source": [
    "#### Performing Train-Validatation-Test Split:"
   ]
  },
  {
   "cell_type": "code",
   "execution_count": 33,
   "metadata": {},
   "outputs": [],
   "source": [
    "# splitting data set in target and features\n",
    "\n",
    "target = df.loc[:,'wait_sec']\n",
    "features = df.drop('wait_sec', axis = 1)\n",
    "\n",
    "# creating train and test set: \n",
    "X_train, X_test, \\\n",
    "y_train, y_test = \\\n",
    "train_test_split(features, target, \\\n",
    "                 random_state=4, test_size = 0.1)\n",
    "\n",
    "# creating validation set from training set\n",
    "X_train, X_val, \\\n",
    "y_train, y_val = \\\n",
    "train_test_split(X_train, y_train, \\\n",
    "                 random_state=4, test_size = 0.1)"
   ]
  },
  {
   "cell_type": "markdown",
   "metadata": {},
   "source": [
    "#### Selecting Features"
   ]
  },
  {
   "cell_type": "code",
   "execution_count": 34,
   "metadata": {},
   "outputs": [],
   "source": [
    "# feature selection: \n",
    "feature_cols         = ['speed_km_h',\n",
    "                        'weekend',\n",
    "                        'rush_hour',\n",
    "                        'busy_season',\n",
    "                        #'pickup_month',\n",
    "                        #'dropoff_time',\n",
    "                        #'pickup_time', \n",
    "                        'dist_meters',\n",
    "                        'trip_duration',\n",
    "                        'pickup_distance_to_center',\n",
    "                        #'dropoff_distance_to_center',\n",
    "                        'to_center',  \n",
    "                       ]\n",
    "\n",
    "remove_features = ['vendor_id', 'pickup_datetime', 'dropoff_datetime', 'pickup_longitude', 'pickup_latitude',\n",
    "                  'dropoff_longitude', 'dropoff_latitude', 'dropoff_time', 'weekday']\n",
    "\n",
    "X_train = X_train.loc[:, feature_cols]\n",
    "X_val = X_val.loc[:, feature_cols]\n",
    "X_test = X_test.loc[:, feature_cols]\n",
    "\n",
    "#X_train = X_train.drop(remove_features, axis=1)\n",
    "#X_val = X_val.drop(remove_features, axis=1)\n",
    "#X_test = X_test.drop(remove_features, axis=1)"
   ]
  },
  {
   "cell_type": "code",
   "execution_count": 35,
   "metadata": {},
   "outputs": [
    {
     "data": {
      "text/html": [
       "<div>\n",
       "<style scoped>\n",
       "    .dataframe tbody tr th:only-of-type {\n",
       "        vertical-align: middle;\n",
       "    }\n",
       "\n",
       "    .dataframe tbody tr th {\n",
       "        vertical-align: top;\n",
       "    }\n",
       "\n",
       "    .dataframe thead th {\n",
       "        text-align: right;\n",
       "    }\n",
       "</style>\n",
       "<table border=\"1\" class=\"dataframe\">\n",
       "  <thead>\n",
       "    <tr style=\"text-align: right;\">\n",
       "      <th></th>\n",
       "      <th>speed_km_h</th>\n",
       "      <th>weekend</th>\n",
       "      <th>rush_hour</th>\n",
       "      <th>busy_season</th>\n",
       "      <th>dist_meters</th>\n",
       "      <th>trip_duration</th>\n",
       "      <th>pickup_distance_to_center</th>\n",
       "      <th>to_center</th>\n",
       "    </tr>\n",
       "  </thead>\n",
       "  <tbody>\n",
       "    <tr>\n",
       "      <th>29372</th>\n",
       "      <td>0.248871</td>\n",
       "      <td>1</td>\n",
       "      <td>1</td>\n",
       "      <td>1</td>\n",
       "      <td>0.061066</td>\n",
       "      <td>0.015965</td>\n",
       "      <td>0.234288</td>\n",
       "      <td>1</td>\n",
       "    </tr>\n",
       "    <tr>\n",
       "      <th>28093</th>\n",
       "      <td>0.105114</td>\n",
       "      <td>1</td>\n",
       "      <td>0</td>\n",
       "      <td>1</td>\n",
       "      <td>0.027760</td>\n",
       "      <td>0.014804</td>\n",
       "      <td>0.295986</td>\n",
       "      <td>1</td>\n",
       "    </tr>\n",
       "    <tr>\n",
       "      <th>24790</th>\n",
       "      <td>0.114034</td>\n",
       "      <td>1</td>\n",
       "      <td>1</td>\n",
       "      <td>0</td>\n",
       "      <td>0.015543</td>\n",
       "      <td>0.004209</td>\n",
       "      <td>0.172696</td>\n",
       "      <td>0</td>\n",
       "    </tr>\n",
       "    <tr>\n",
       "      <th>30059</th>\n",
       "      <td>0.046391</td>\n",
       "      <td>0</td>\n",
       "      <td>0</td>\n",
       "      <td>1</td>\n",
       "      <td>0.009526</td>\n",
       "      <td>0.007329</td>\n",
       "      <td>0.271007</td>\n",
       "      <td>1</td>\n",
       "    </tr>\n",
       "    <tr>\n",
       "      <th>15631</th>\n",
       "      <td>0.144344</td>\n",
       "      <td>1</td>\n",
       "      <td>0</td>\n",
       "      <td>1</td>\n",
       "      <td>0.014100</td>\n",
       "      <td>0.000907</td>\n",
       "      <td>0.131444</td>\n",
       "      <td>0</td>\n",
       "    </tr>\n",
       "  </tbody>\n",
       "</table>\n",
       "</div>"
      ],
      "text/plain": [
       "       speed_km_h  weekend  rush_hour  busy_season  dist_meters  \\\n",
       "29372    0.248871        1          1            1     0.061066   \n",
       "28093    0.105114        1          0            1     0.027760   \n",
       "24790    0.114034        1          1            0     0.015543   \n",
       "30059    0.046391        0          0            1     0.009526   \n",
       "15631    0.144344        1          0            1     0.014100   \n",
       "\n",
       "       trip_duration  pickup_distance_to_center  to_center  \n",
       "29372       0.015965                   0.234288          1  \n",
       "28093       0.014804                   0.295986          1  \n",
       "24790       0.004209                   0.172696          0  \n",
       "30059       0.007329                   0.271007          1  \n",
       "15631       0.000907                   0.131444          0  "
      ]
     },
     "execution_count": 35,
     "metadata": {},
     "output_type": "execute_result"
    }
   ],
   "source": [
    "X_train.head()"
   ]
  },
  {
   "cell_type": "markdown",
   "metadata": {},
   "source": [
    "#### Baseline Model Linear Regression: "
   ]
  },
  {
   "cell_type": "code",
   "execution_count": 36,
   "metadata": {},
   "outputs": [
    {
     "name": "stdout",
     "output_type": "stream",
     "text": [
      "Test Set MAE for linear Regresison:  185.47632045330852\n"
     ]
    }
   ],
   "source": [
    "#simple baseline model\n",
    "\n",
    "linreg = LinearRegression().fit(X_train, y_train)\n",
    "\n",
    "print('Test Set MAE for linear Regresison: ', \n",
    "      sklearn.metrics.mean_absolute_error(linreg.predict(X_test), y_test))\n"
   ]
  },
  {
   "cell_type": "markdown",
   "metadata": {},
   "source": [
    "#### Running ANN "
   ]
  },
  {
   "cell_type": "markdown",
   "metadata": {},
   "source": [
    "**Note:** I have tried many different architectures and parameter from simple to more complex and want to show one of the good models I found."
   ]
  },
  {
   "cell_type": "code",
   "execution_count": 37,
   "metadata": {},
   "outputs": [],
   "source": [
    "# importing tensorflow modules\n",
    "\n",
    "import tensorflow as tf\n",
    "from tensorflow.python.keras.models import Sequential\n",
    "from tensorflow.python.keras.layers import Input, Activation, Lambda, Dense, Dropout, BatchNormalization\n",
    "from tensorflow.python.keras.optimizers import SGD"
   ]
  },
  {
   "cell_type": "code",
   "execution_count": 38,
   "metadata": {},
   "outputs": [
    {
     "name": "stdout",
     "output_type": "stream",
     "text": [
      "Model: \"sequential\"\n",
      "_________________________________________________________________\n",
      "Layer (type)                 Output Shape              Param #   \n",
      "=================================================================\n",
      "dense (Dense)                (None, 32)                288       \n",
      "_________________________________________________________________\n",
      "batch_normalization (BatchNo (None, 32)                128       \n",
      "_________________________________________________________________\n",
      "activation (Activation)      (None, 32)                0         \n",
      "_________________________________________________________________\n",
      "dropout (Dropout)            (None, 32)                0         \n",
      "_________________________________________________________________\n",
      "dense_1 (Dense)              (None, 16)                528       \n",
      "_________________________________________________________________\n",
      "batch_normalization_1 (Batch (None, 16)                64        \n",
      "_________________________________________________________________\n",
      "activation_1 (Activation)    (None, 16)                0         \n",
      "_________________________________________________________________\n",
      "dropout_1 (Dropout)          (None, 16)                0         \n",
      "_________________________________________________________________\n",
      "dense_2 (Dense)              (None, 8)                 136       \n",
      "_________________________________________________________________\n",
      "batch_normalization_2 (Batch (None, 8)                 32        \n",
      "_________________________________________________________________\n",
      "activation_2 (Activation)    (None, 8)                 0         \n",
      "_________________________________________________________________\n",
      "dropout_2 (Dropout)          (None, 8)                 0         \n",
      "_________________________________________________________________\n",
      "dense_3 (Dense)              (None, 1)                 9         \n",
      "=================================================================\n",
      "Total params: 1,185\n",
      "Trainable params: 1,073\n",
      "Non-trainable params: 112\n",
      "_________________________________________________________________\n",
      "Epoch 1/16\n",
      "75/75 [==============================] - 1s 15ms/step - loss: 411.2217 - mse: 763088.5000 - mae: 411.2217 - val_loss: 362.4645 - val_mse: 714818.0625 - val_mae: 362.4645\n",
      "Epoch 2/16\n",
      "75/75 [==============================] - 1s 8ms/step - loss: 257.2838 - mse: 497612.4062 - mae: 257.2838 - val_loss: 226.0716 - val_mse: 248623.7188 - val_mae: 226.0716\n",
      "Epoch 3/16\n",
      "75/75 [==============================] - 1s 9ms/step - loss: 229.7823 - mse: 400596.8125 - mae: 229.7823 - val_loss: 193.1635 - val_mse: 170432.8906 - val_mae: 193.1635\n",
      "Epoch 4/16\n",
      "75/75 [==============================] - 1s 9ms/step - loss: 224.1727 - mse: 380746.0625 - mae: 224.1727 - val_loss: 252.4141 - val_mse: 258305.7812 - val_mae: 252.4141\n",
      "Epoch 5/16\n",
      "75/75 [==============================] - 1s 8ms/step - loss: 214.5449 - mse: 361808.4375 - mae: 214.5449 - val_loss: 194.0081 - val_mse: 188811.3750 - val_mae: 194.0081\n",
      "Epoch 6/16\n",
      "75/75 [==============================] - 1s 8ms/step - loss: 214.3379 - mse: 346364.6875 - mae: 214.3379 - val_loss: 229.4244 - val_mse: 244406.7031 - val_mae: 229.4244\n",
      "Epoch 7/16\n",
      "75/75 [==============================] - 1s 8ms/step - loss: 211.6978 - mse: 351286.6250 - mae: 211.6978 - val_loss: 178.0827 - val_mse: 232355.0156 - val_mae: 178.0827\n",
      "Epoch 8/16\n",
      "75/75 [==============================] - 1s 9ms/step - loss: 214.1687 - mse: 353502.2188 - mae: 214.1687 - val_loss: 174.2688 - val_mse: 235296.7812 - val_mae: 174.2688\n",
      "Epoch 9/16\n",
      "75/75 [==============================] - 1s 8ms/step - loss: 211.7090 - mse: 354009.0625 - mae: 211.7090 - val_loss: 183.9408 - val_mse: 266380.2500 - val_mae: 183.9408\n",
      "Epoch 10/16\n",
      "75/75 [==============================] - 1s 8ms/step - loss: 209.1897 - mse: 362258.6250 - mae: 209.1897 - val_loss: 189.1535 - val_mse: 284988.7188 - val_mae: 189.1535\n",
      "Epoch 11/16\n",
      "75/75 [==============================] - 1s 8ms/step - loss: 206.3023 - mse: 345863.8438 - mae: 206.3023 - val_loss: 176.5502 - val_mse: 217822.8594 - val_mae: 176.5502\n",
      "Epoch 12/16\n",
      "75/75 [==============================] - 1s 8ms/step - loss: 208.4350 - mse: 348346.9375 - mae: 208.4350 - val_loss: 174.5638 - val_mse: 239884.1250 - val_mae: 174.5638\n",
      "Epoch 13/16\n",
      "75/75 [==============================] - 1s 8ms/step - loss: 209.8451 - mse: 358495.4688 - mae: 209.8451 - val_loss: 199.6276 - val_mse: 287505.8750 - val_mae: 199.6276\n",
      "Epoch 14/16\n",
      "75/75 [==============================] - 1s 9ms/step - loss: 207.6743 - mse: 355286.6875 - mae: 207.6743 - val_loss: 168.0819 - val_mse: 236724.5625 - val_mae: 168.0819\n",
      "Epoch 15/16\n",
      "75/75 [==============================] - 1s 8ms/step - loss: 208.2297 - mse: 359224.0312 - mae: 208.2297 - val_loss: 169.8172 - val_mse: 231550.4531 - val_mae: 169.8172\n",
      "Epoch 16/16\n",
      "75/75 [==============================] - 1s 8ms/step - loss: 208.4320 - mse: 368243.7188 - mae: 208.4320 - val_loss: 179.5480 - val_mse: 255612.0469 - val_mae: 179.5480\n"
     ]
    }
   ],
   "source": [
    "# Model Architecture\n",
    "\n",
    "ann_model = Sequential()\n",
    "\n",
    "# input layer\n",
    "ann_model.add(Input(X_train.shape[1]))\n",
    "\n",
    "ann_model.add(Dense(32))\n",
    "ann_model.add(BatchNormalization())\n",
    "ann_model.add(Activation('relu'))\n",
    "ann_model.add(Dropout(0.2))\n",
    "\n",
    "# hidden layer\n",
    "ann_model.add(Dense(16))\n",
    "ann_model.add(BatchNormalization())\n",
    "ann_model.add(Activation('relu'))\n",
    "ann_model.add(Dropout(0.2))\n",
    "\n",
    "ann_model.add(Dense(8))\n",
    "ann_model.add(BatchNormalization())\n",
    "ann_model.add(Activation('relu'))\n",
    "ann_model.add(Dropout(0.2))\n",
    "\n",
    "# Output layer\n",
    "ann_model.add(Dense(1,\n",
    "               activation='linear'))\n",
    "\n",
    "ann_model.summary()\n",
    "\n",
    "\n",
    "# Parameters\n",
    "learning_rate = 0.01\n",
    "momentum = 0.9\n",
    "epochs = 16\n",
    "batch_size = 256\n",
    "\n",
    "# saving best model\n",
    "checkpoint_filepath = 'checkpoint/'\n",
    "\n",
    "model_checkpoint_callback = tf.keras.callbacks.ModelCheckpoint(\n",
    "    filepath=checkpoint_filepath,\n",
    "    save_weights_only=True,\n",
    "    monitor='val_mae',\n",
    "    mode='min',\n",
    "    save_best_only=True)\n",
    "\n",
    "\n",
    "#optimizer\n",
    "sgd = tf.keras.optimizers.SGD(learning_rate, momentum)\n",
    "\n",
    "ann_model.compile(loss='mae', \n",
    "                  optimizer=sgd, \n",
    "                  metrics=['mse','mae'])\n",
    "\n",
    "ann_model_history = ann_model.fit(X_train, y_train, \n",
    "                                  validation_data=(X_val, y_val),\n",
    "                        epochs=epochs, \n",
    "                        batch_size=batch_size,  \n",
    "                        verbose=1,\n",
    "                        callbacks=[model_checkpoint_callback])"
   ]
  },
  {
   "cell_type": "code",
   "execution_count": 39,
   "metadata": {},
   "outputs": [
    {
     "name": "stdout",
     "output_type": "stream",
     "text": [
      "dict_keys(['loss', 'mse', 'mae', 'val_loss', 'val_mse', 'val_mae'])\n"
     ]
    },
    {
     "data": {
      "image/png": "[encoded data removed]",
      "text/plain": [
       "<Figure size 432x288 with 1 Axes>"
      ]
     },
     "metadata": {
      "needs_background": "light"
     },
     "output_type": "display_data"
    }
   ],
   "source": [
    "# plotting the trianing and validation loss curves\n",
    "\n",
    "print(ann_model_history.history.keys())\n",
    "\n",
    "plt.figure()\n",
    "plt.plot(ann_model_history.history['mae'], color=(0.2, 0.4, 0.6, 0.6))\n",
    "plt.plot(ann_model_history.history['val_mae'], color=(0.2, 0.9, 0.8, 0.6))\n",
    "plt.title('model loss')\n",
    "plt.ylabel('Mean Average Error')\n",
    "plt.xlabel('Epoch')\n",
    "plt.legend(['train', 'validation'], loc='upper left')\n",
    "plt.gcf().patch.set_alpha(0.0)\n",
    "plt.gca().patch.set_alpha(0.0)\n",
    "plt.tight_layout()\n",
    "plt.show()"
   ]
  },
  {
   "cell_type": "markdown",
   "metadata": {},
   "source": [
    "#### Model Selection and Evaluation"
   ]
  },
  {
   "cell_type": "markdown",
   "metadata": {},
   "source": [
    "**Note:** I have chosen to take the best parameter set from the validation set and use it as my best model. "
   ]
  },
  {
   "cell_type": "code",
   "execution_count": 40,
   "metadata": {},
   "outputs": [
    {
     "name": "stdout",
     "output_type": "stream",
     "text": [
      "Test Set MAE on best model:  179.3683742623495\n"
     ]
    }
   ],
   "source": [
    "# load best model from validation set\n",
    "\n",
    "ann_model.load_weights(checkpoint_filepath)\n",
    "\n",
    "print('Test Set MAE on best model: ', \n",
    "      mean_absolute_error(ann_model.predict(X_test), y_test))"
   ]
  }
 ],
 "metadata": {
  "kernelspec": {
   "display_name": "Python 3",
   "language": "python",
   "name": "python3"
  },
  "language_info": {
   "codemirror_mode": {
    "name": "ipython",
    "version": 3
   },
   "file_extension": ".py",
   "mimetype": "text/x-python",
   "name": "python",
   "nbconvert_exporter": "python",
   "pygments_lexer": "ipython3",
   "version": "3.8.6"
  }
 },
 "nbformat": 4,
 "nbformat_minor": 4
}
